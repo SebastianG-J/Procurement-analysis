{
 "cells": [
  {
   "cell_type": "markdown",
   "id": "267b4201",
   "metadata": {},
   "source": [
    "# Dataanalyse for MTG slanger"
   ]
  },
  {
   "cell_type": "markdown",
   "id": "2acb046f",
   "metadata": {},
   "source": []
  }
 ],
 "metadata": {
  "kernelspec": {
   "display_name": ".venv",
   "language": "python",
   "name": "python3"
  },
  "language_info": {
   "name": "python",
   "version": "3.13.5"
  }
 },
 "nbformat": 4,
 "nbformat_minor": 5
}
