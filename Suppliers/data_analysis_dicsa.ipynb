{
 "cells": [
  {
   "cell_type": "markdown",
   "id": "fc5695dc",
   "metadata": {},
   "source": [
    "Loading in the data"
   ]
  },
  {
   "cell_type": "code",
   "execution_count": null,
   "id": "36e807da",
   "metadata": {},
   "outputs": [],
   "source": [
    "import pandas as pd\n",
    "\n",
    "# Load the Excel file and read the first sheet into a DataFrame\n",
    "file_path = \"Vareposter Alfotech.xlsx\"\n",
    "sales_df = pd.read_excel(file_path, header=0)\n",
    "\n",
    "# Remap Montageforbrug → Salg in-place\n",
    "sales_df['Posttype'] = sales_df['Posttype'].replace({'Montageforbrug': 'Salg'})\n",
    "sales_df.head()"
   ]
  },
  {
   "cell_type": "markdown",
   "id": "464cfab1",
   "metadata": {},
   "source": [
    "# Data analysis"
   ]
  },
  {
   "cell_type": "markdown",
   "id": "701ab23a",
   "metadata": {},
   "source": [
    "#### Supplier - Dicsa\n",
    "Creating Dicsa dataset isolating the supplier number"
   ]
  },
  {
   "cell_type": "code",
   "execution_count": 3,
   "id": "d531f2e9",
   "metadata": {},
   "outputs": [],
   "source": [
    "dicsa_df = sales_df[sales_df['Leverandørnr.'] == 'ES976464']"
   ]
  },
  {
   "cell_type": "code",
   "execution_count": 14,
   "id": "f36b8ac1",
   "metadata": {},
   "outputs": [
    {
     "ename": "KeyError",
     "evalue": "\"['Beskrivelse'] not in index\"",
     "output_type": "error",
     "traceback": [
      "\u001b[31m---------------------------------------------------------------------------\u001b[39m",
      "\u001b[31mKeyError\u001b[39m                                  Traceback (most recent call last)",
      "\u001b[36mCell\u001b[39m\u001b[36m \u001b[39m\u001b[32mIn[14]\u001b[39m\u001b[32m, line 12\u001b[39m\n\u001b[32m      1\u001b[39m \u001b[38;5;66;03m# Keep only the relevant columns\u001b[39;00m\n\u001b[32m      2\u001b[39m relevant_columns = [\n\u001b[32m      3\u001b[39m     \u001b[33m'\u001b[39m\u001b[33mBogføringsdato\u001b[39m\u001b[33m'\u001b[39m,\n\u001b[32m      4\u001b[39m     \u001b[33m'\u001b[39m\u001b[33mPosttype\u001b[39m\u001b[33m'\u001b[39m,\n\u001b[32m   (...)\u001b[39m\u001b[32m     10\u001b[39m     \u001b[33m'\u001b[39m\u001b[33mLeverandørnr.\u001b[39m\u001b[33m'\u001b[39m\n\u001b[32m     11\u001b[39m ]\n\u001b[32m---> \u001b[39m\u001b[32m12\u001b[39m dicsa_df = \u001b[43mdicsa_df\u001b[49m\u001b[43m[\u001b[49m\u001b[43mrelevant_columns\u001b[49m\u001b[43m]\u001b[49m\n\u001b[32m     14\u001b[39m \u001b[38;5;66;03m# Display the first few rows to confirm\u001b[39;00m\n\u001b[32m     15\u001b[39m display(dicsa_df.head())\n",
      "\u001b[36mFile \u001b[39m\u001b[32mc:\\Users\\sgj\\AppData\\Local\\Programs\\Python\\Python311\\Lib\\site-packages\\pandas\\core\\frame.py:4108\u001b[39m, in \u001b[36mDataFrame.__getitem__\u001b[39m\u001b[34m(self, key)\u001b[39m\n\u001b[32m   4106\u001b[39m     \u001b[38;5;28;01mif\u001b[39;00m is_iterator(key):\n\u001b[32m   4107\u001b[39m         key = \u001b[38;5;28mlist\u001b[39m(key)\n\u001b[32m-> \u001b[39m\u001b[32m4108\u001b[39m     indexer = \u001b[38;5;28;43mself\u001b[39;49m\u001b[43m.\u001b[49m\u001b[43mcolumns\u001b[49m\u001b[43m.\u001b[49m\u001b[43m_get_indexer_strict\u001b[49m\u001b[43m(\u001b[49m\u001b[43mkey\u001b[49m\u001b[43m,\u001b[49m\u001b[43m \u001b[49m\u001b[33;43m\"\u001b[39;49m\u001b[33;43mcolumns\u001b[39;49m\u001b[33;43m\"\u001b[39;49m\u001b[43m)\u001b[49m[\u001b[32m1\u001b[39m]\n\u001b[32m   4110\u001b[39m \u001b[38;5;66;03m# take() does not accept boolean indexers\u001b[39;00m\n\u001b[32m   4111\u001b[39m \u001b[38;5;28;01mif\u001b[39;00m \u001b[38;5;28mgetattr\u001b[39m(indexer, \u001b[33m\"\u001b[39m\u001b[33mdtype\u001b[39m\u001b[33m\"\u001b[39m, \u001b[38;5;28;01mNone\u001b[39;00m) == \u001b[38;5;28mbool\u001b[39m:\n",
      "\u001b[36mFile \u001b[39m\u001b[32mc:\\Users\\sgj\\AppData\\Local\\Programs\\Python\\Python311\\Lib\\site-packages\\pandas\\core\\indexes\\base.py:6200\u001b[39m, in \u001b[36mIndex._get_indexer_strict\u001b[39m\u001b[34m(self, key, axis_name)\u001b[39m\n\u001b[32m   6197\u001b[39m \u001b[38;5;28;01melse\u001b[39;00m:\n\u001b[32m   6198\u001b[39m     keyarr, indexer, new_indexer = \u001b[38;5;28mself\u001b[39m._reindex_non_unique(keyarr)\n\u001b[32m-> \u001b[39m\u001b[32m6200\u001b[39m \u001b[38;5;28;43mself\u001b[39;49m\u001b[43m.\u001b[49m\u001b[43m_raise_if_missing\u001b[49m\u001b[43m(\u001b[49m\u001b[43mkeyarr\u001b[49m\u001b[43m,\u001b[49m\u001b[43m \u001b[49m\u001b[43mindexer\u001b[49m\u001b[43m,\u001b[49m\u001b[43m \u001b[49m\u001b[43maxis_name\u001b[49m\u001b[43m)\u001b[49m\n\u001b[32m   6202\u001b[39m keyarr = \u001b[38;5;28mself\u001b[39m.take(indexer)\n\u001b[32m   6203\u001b[39m \u001b[38;5;28;01mif\u001b[39;00m \u001b[38;5;28misinstance\u001b[39m(key, Index):\n\u001b[32m   6204\u001b[39m     \u001b[38;5;66;03m# GH 42790 - Preserve name from an Index\u001b[39;00m\n",
      "\u001b[36mFile \u001b[39m\u001b[32mc:\\Users\\sgj\\AppData\\Local\\Programs\\Python\\Python311\\Lib\\site-packages\\pandas\\core\\indexes\\base.py:6252\u001b[39m, in \u001b[36mIndex._raise_if_missing\u001b[39m\u001b[34m(self, key, indexer, axis_name)\u001b[39m\n\u001b[32m   6249\u001b[39m     \u001b[38;5;28;01mraise\u001b[39;00m \u001b[38;5;167;01mKeyError\u001b[39;00m(\u001b[33mf\u001b[39m\u001b[33m\"\u001b[39m\u001b[33mNone of [\u001b[39m\u001b[38;5;132;01m{\u001b[39;00mkey\u001b[38;5;132;01m}\u001b[39;00m\u001b[33m] are in the [\u001b[39m\u001b[38;5;132;01m{\u001b[39;00maxis_name\u001b[38;5;132;01m}\u001b[39;00m\u001b[33m]\u001b[39m\u001b[33m\"\u001b[39m)\n\u001b[32m   6251\u001b[39m not_found = \u001b[38;5;28mlist\u001b[39m(ensure_index(key)[missing_mask.nonzero()[\u001b[32m0\u001b[39m]].unique())\n\u001b[32m-> \u001b[39m\u001b[32m6252\u001b[39m \u001b[38;5;28;01mraise\u001b[39;00m \u001b[38;5;167;01mKeyError\u001b[39;00m(\u001b[33mf\u001b[39m\u001b[33m\"\u001b[39m\u001b[38;5;132;01m{\u001b[39;00mnot_found\u001b[38;5;132;01m}\u001b[39;00m\u001b[33m not in index\u001b[39m\u001b[33m\"\u001b[39m)\n",
      "\u001b[31mKeyError\u001b[39m: \"['Beskrivelse'] not in index\""
     ]
    }
   ],
   "source": [
    "# Keep only the relevant columns\n",
    "relevant_columns = [\n",
    "    'Bogføringsdato',\n",
    "    'Posttype',\n",
    "    'Varenr.',\n",
    "    'Beskrivelse',\n",
    "    'Antal',\n",
    "    'Salgsbeløb (faktisk)',\n",
    "    'Kostbeløb (faktisk)',\n",
    "    'Leverandørnr.'\n",
    "]\n",
    "dicsa_df = dicsa_df[relevant_columns]\n",
    "\n",
    "# Display the first few rows to confirm\n",
    "display(dicsa_df.head())"
   ]
  },
  {
   "cell_type": "code",
   "execution_count": 5,
   "id": "68a3c359",
   "metadata": {},
   "outputs": [
    {
     "name": "stdout",
     "output_type": "stream",
     "text": [
      "Average unit cost combined 60.40193796141841\n",
      "Average unit cost for 'Salg': 57.67963945368014\n",
      "Average unit cost for 'Køb': 74.80840371105901\n"
     ]
    }
   ],
   "source": [
    "# Filter for 'Salg' og 'Køb posttype\n",
    "dicsa_sales = dicsa_df[dicsa_df['Posttype'] == 'Salg']\n",
    "dicsa_purchase = dicsa_df[dicsa_df['Posttype'] == 'Køb']\n",
    "\n",
    "# Calculate unit cost for 'Salg'\n",
    "dicsa_unitcost_sales = dicsa_sales['Kostbeløb (faktisk)'] / dicsa_sales['Antal']\n",
    "# Calculate unit cost for 'Køb'\n",
    "dicsa_unitcost_purchase = dicsa_purchase['Kostbeløb (faktisk)'] / dicsa_purchase['Antal']\n",
    "dicsa_unitcost = dicsa_df['Kostbeløb (faktisk)'] / dicsa_df['Antal']\n",
    "\n",
    "# Calculate and print the average unit cost\n",
    "average_unitcost_sales = dicsa_unitcost_sales.mean()\n",
    "average_unitcost_purchase = dicsa_unitcost_purchase.mean()\n",
    "average_unitcost = dicsa_unitcost.mean()\n",
    "print(\"Average unit cost combined\", average_unitcost)\n",
    "print(\"Average unit cost for 'Salg':\", average_unitcost_sales)\n",
    "print(\"Average unit cost for 'Køb':\", average_unitcost_purchase)\n"
   ]
  },
  {
   "cell_type": "code",
   "execution_count": 6,
   "id": "9a3af021",
   "metadata": {},
   "outputs": [
    {
     "name": "stdout",
     "output_type": "stream",
     "text": [
      "Average sales price per unit: 53.321540430132735\n"
     ]
    }
   ],
   "source": [
    "# Sales price per unit\n",
    "dicsa_sales_price_per_unit = dicsa_sales['Salgsbeløb (faktisk)'] / dicsa_sales['Antal']\n",
    "\n",
    "average_sales_price_per_unit = dicsa_sales_price_per_unit.mean()\n",
    "print(\"Average sales price per unit:\", abs(average_sales_price_per_unit))"
   ]
  },
  {
   "cell_type": "markdown",
   "id": "0241e37f",
   "metadata": {},
   "source": [
    "#### Descriptive insights"
   ]
  },
  {
   "cell_type": "code",
   "execution_count": 12,
   "id": "f06cb84f",
   "metadata": {},
   "outputs": [
    {
     "data": {
      "text/html": [
       "<div>\n",
       "<style scoped>\n",
       "    .dataframe tbody tr th:only-of-type {\n",
       "        vertical-align: middle;\n",
       "    }\n",
       "\n",
       "    .dataframe tbody tr th {\n",
       "        vertical-align: top;\n",
       "    }\n",
       "\n",
       "    .dataframe thead th {\n",
       "        text-align: right;\n",
       "    }\n",
       "</style>\n",
       "<table border=\"1\" class=\"dataframe\">\n",
       "  <thead>\n",
       "    <tr style=\"text-align: right;\">\n",
       "      <th></th>\n",
       "      <th>total_units_sold</th>\n",
       "      <th>total_sales_value</th>\n",
       "      <th>transactions</th>\n",
       "    </tr>\n",
       "    <tr>\n",
       "      <th>Varenr.</th>\n",
       "      <th></th>\n",
       "      <th></th>\n",
       "      <th></th>\n",
       "    </tr>\n",
       "  </thead>\n",
       "  <tbody>\n",
       "    <tr>\n",
       "      <th>0100600060</th>\n",
       "      <td>-20.0</td>\n",
       "      <td>340.0</td>\n",
       "      <td>1</td>\n",
       "    </tr>\n",
       "    <tr>\n",
       "      <th>0100600080</th>\n",
       "      <td>-150.0</td>\n",
       "      <td>2675.4</td>\n",
       "      <td>4</td>\n",
       "    </tr>\n",
       "    <tr>\n",
       "      <th>0100600100</th>\n",
       "      <td>-30.0</td>\n",
       "      <td>660.0</td>\n",
       "      <td>1</td>\n",
       "    </tr>\n",
       "    <tr>\n",
       "      <th>0100610010</th>\n",
       "      <td>-4.0</td>\n",
       "      <td>637.2</td>\n",
       "      <td>1</td>\n",
       "    </tr>\n",
       "    <tr>\n",
       "      <th>0100629060</th>\n",
       "      <td>-2.0</td>\n",
       "      <td>288.0</td>\n",
       "      <td>1</td>\n",
       "    </tr>\n",
       "  </tbody>\n",
       "</table>\n",
       "</div>"
      ],
      "text/plain": [
       "            total_units_sold  total_sales_value  transactions\n",
       "Varenr.                                                      \n",
       "0100600060             -20.0              340.0             1\n",
       "0100600080            -150.0             2675.4             4\n",
       "0100600100             -30.0              660.0             1\n",
       "0100610010              -4.0              637.2             1\n",
       "0100629060              -2.0              288.0             1"
      ]
     },
     "metadata": {},
     "output_type": "display_data"
    },
    {
     "data": {
      "text/html": [
       "<div>\n",
       "<style scoped>\n",
       "    .dataframe tbody tr th:only-of-type {\n",
       "        vertical-align: middle;\n",
       "    }\n",
       "\n",
       "    .dataframe tbody tr th {\n",
       "        vertical-align: top;\n",
       "    }\n",
       "\n",
       "    .dataframe thead th {\n",
       "        text-align: right;\n",
       "    }\n",
       "</style>\n",
       "<table border=\"1\" class=\"dataframe\">\n",
       "  <thead>\n",
       "    <tr style=\"text-align: right;\">\n",
       "      <th></th>\n",
       "      <th>total_units_purchased</th>\n",
       "      <th>total_purchase_cost</th>\n",
       "      <th>purchase_transactions</th>\n",
       "    </tr>\n",
       "    <tr>\n",
       "      <th>Varenr.</th>\n",
       "      <th></th>\n",
       "      <th></th>\n",
       "      <th></th>\n",
       "    </tr>\n",
       "  </thead>\n",
       "  <tbody>\n",
       "    <tr>\n",
       "      <th>0100600080</th>\n",
       "      <td>120.0</td>\n",
       "      <td>472.47</td>\n",
       "      <td>1</td>\n",
       "    </tr>\n",
       "    <tr>\n",
       "      <th>0100629060</th>\n",
       "      <td>2.0</td>\n",
       "      <td>80.38</td>\n",
       "      <td>1</td>\n",
       "    </tr>\n",
       "    <tr>\n",
       "      <th>0100629130</th>\n",
       "      <td>4.0</td>\n",
       "      <td>602.33</td>\n",
       "      <td>1</td>\n",
       "    </tr>\n",
       "    <tr>\n",
       "      <th>0100630008</th>\n",
       "      <td>11.0</td>\n",
       "      <td>343.55</td>\n",
       "      <td>2</td>\n",
       "    </tr>\n",
       "    <tr>\n",
       "      <th>0100630022</th>\n",
       "      <td>4.0</td>\n",
       "      <td>358.49</td>\n",
       "      <td>1</td>\n",
       "    </tr>\n",
       "  </tbody>\n",
       "</table>\n",
       "</div>"
      ],
      "text/plain": [
       "            total_units_purchased  total_purchase_cost  purchase_transactions\n",
       "Varenr.                                                                      \n",
       "0100600080                  120.0               472.47                      1\n",
       "0100629060                    2.0                80.38                      1\n",
       "0100629130                    4.0               602.33                      1\n",
       "0100630008                   11.0               343.55                      2\n",
       "0100630022                    4.0               358.49                      1"
      ]
     },
     "metadata": {},
     "output_type": "display_data"
    }
   ],
   "source": [
    "# Total sales and purchases per product\n",
    "sales = dicsa_df[dicsa_df['Posttype'] == 'Salg'].groupby('Varenr.').agg(\n",
    "    total_units_sold=('Antal', 'sum'),\n",
    "    total_sales_value=('Salgsbeløb (faktisk)', 'sum'),\n",
    "    transactions=('Antal', 'count')\n",
    ")\n",
    "purchases = dicsa_df[dicsa_df['Posttype'] == 'Køb'].groupby('Varenr.').agg(\n",
    "    total_units_purchased=('Antal', 'sum'),\n",
    "    total_purchase_cost=('Kostbeløb (faktisk)', 'sum'),\n",
    "    purchase_transactions=('Antal', 'count')\n",
    ")\n",
    "display(sales.head())\n",
    "display(purchases.head())"
   ]
  },
  {
   "cell_type": "code",
   "execution_count": null,
   "id": "181ce28e",
   "metadata": {},
   "outputs": [
    {
     "data": {
      "text/html": [
       "<div>\n",
       "<style scoped>\n",
       "    .dataframe tbody tr th:only-of-type {\n",
       "        vertical-align: middle;\n",
       "    }\n",
       "\n",
       "    .dataframe tbody tr th {\n",
       "        vertical-align: top;\n",
       "    }\n",
       "\n",
       "    .dataframe thead th {\n",
       "        text-align: right;\n",
       "    }\n",
       "</style>\n",
       "<table border=\"1\" class=\"dataframe\">\n",
       "  <thead>\n",
       "    <tr style=\"text-align: right;\">\n",
       "      <th></th>\n",
       "      <th>total_units_sold</th>\n",
       "      <th>total_sales_value</th>\n",
       "      <th>transactions</th>\n",
       "      <th>total_units_purchased</th>\n",
       "      <th>total_purchase_cost</th>\n",
       "      <th>purchase_transactions</th>\n",
       "      <th>turnover_rate</th>\n",
       "    </tr>\n",
       "    <tr>\n",
       "      <th>Varenr.</th>\n",
       "      <th></th>\n",
       "      <th></th>\n",
       "      <th></th>\n",
       "      <th></th>\n",
       "      <th></th>\n",
       "      <th></th>\n",
       "      <th></th>\n",
       "    </tr>\n",
       "  </thead>\n",
       "  <tbody>\n",
       "    <tr>\n",
       "      <th>0492210014</th>\n",
       "      <td>-654.0</td>\n",
       "      <td>0.00</td>\n",
       "      <td>48.0</td>\n",
       "      <td>640.0</td>\n",
       "      <td>10304.75</td>\n",
       "      <td>16.0</td>\n",
       "      <td>-16.350000</td>\n",
       "    </tr>\n",
       "    <tr>\n",
       "      <th>0463902506</th>\n",
       "      <td>-457.0</td>\n",
       "      <td>13465.31</td>\n",
       "      <td>83.0</td>\n",
       "      <td>450.0</td>\n",
       "      <td>26589.24</td>\n",
       "      <td>16.0</td>\n",
       "      <td>-16.248889</td>\n",
       "    </tr>\n",
       "    <tr>\n",
       "      <th>0463903806</th>\n",
       "      <td>-223.0</td>\n",
       "      <td>6959.40</td>\n",
       "      <td>45.0</td>\n",
       "      <td>220.0</td>\n",
       "      <td>14967.34</td>\n",
       "      <td>12.0</td>\n",
       "      <td>-12.163636</td>\n",
       "    </tr>\n",
       "    <tr>\n",
       "      <th>04911104120A</th>\n",
       "      <td>-1376.0</td>\n",
       "      <td>9520.00</td>\n",
       "      <td>449.0</td>\n",
       "      <td>1025.0</td>\n",
       "      <td>31722.48</td>\n",
       "      <td>9.0</td>\n",
       "      <td>-12.081951</td>\n",
       "    </tr>\n",
       "    <tr>\n",
       "      <th>04911103120A</th>\n",
       "      <td>-321.0</td>\n",
       "      <td>4046.00</td>\n",
       "      <td>92.0</td>\n",
       "      <td>300.0</td>\n",
       "      <td>11480.24</td>\n",
       "      <td>11.0</td>\n",
       "      <td>-11.770000</td>\n",
       "    </tr>\n",
       "  </tbody>\n",
       "</table>\n",
       "</div>"
      ],
      "text/plain": [
       "              total_units_sold  total_sales_value  transactions  \\\n",
       "Varenr.                                                           \n",
       "0492210014              -654.0               0.00          48.0   \n",
       "0463902506              -457.0           13465.31          83.0   \n",
       "0463903806              -223.0            6959.40          45.0   \n",
       "04911104120A           -1376.0            9520.00         449.0   \n",
       "04911103120A            -321.0            4046.00          92.0   \n",
       "\n",
       "              total_units_purchased  total_purchase_cost  \\\n",
       "Varenr.                                                    \n",
       "0492210014                    640.0             10304.75   \n",
       "0463902506                    450.0             26589.24   \n",
       "0463903806                    220.0             14967.34   \n",
       "04911104120A                 1025.0             31722.48   \n",
       "04911103120A                  300.0             11480.24   \n",
       "\n",
       "              purchase_transactions  turnover_rate  \n",
       "Varenr.                                             \n",
       "0492210014                     16.0     -16.350000  \n",
       "0463902506                     16.0     -16.248889  \n",
       "0463903806                     12.0     -12.163636  \n",
       "04911104120A                    9.0     -12.081951  \n",
       "04911103120A                   11.0     -11.770000  "
      ]
     },
     "metadata": {},
     "output_type": "display_data"
    }
   ],
   "source": [
    "# Calculate average inventory as average of purchased units (simple proxy)\n",
    "turnover = pd.merge(sales, purchases, left_index=True, right_index=True, how='outer').fillna(0)\n",
    "turnover['turnover_rate'] = turnover['total_units_sold'] / (turnover['total_units_purchased'] / turnover['purchase_transactions'])\n",
    "display(turnover.sort_values('turnover_rate', ascending=True).head())"
   ]
  },
  {
   "cell_type": "code",
   "execution_count": null,
   "id": "7cebff96",
   "metadata": {},
   "outputs": [
    {
     "data": {
      "text/html": [
       "<div>\n",
       "<style scoped>\n",
       "    .dataframe tbody tr th:only-of-type {\n",
       "        vertical-align: middle;\n",
       "    }\n",
       "\n",
       "    .dataframe tbody tr th {\n",
       "        vertical-align: top;\n",
       "    }\n",
       "\n",
       "    .dataframe thead th {\n",
       "        text-align: right;\n",
       "    }\n",
       "</style>\n",
       "<table border=\"1\" class=\"dataframe\">\n",
       "  <thead>\n",
       "    <tr style=\"text-align: right;\">\n",
       "      <th></th>\n",
       "      <th>total_sales</th>\n",
       "      <th>total_cost</th>\n",
       "      <th>total_margin</th>\n",
       "      <th>margin_pct</th>\n",
       "    </tr>\n",
       "    <tr>\n",
       "      <th>Varenr.</th>\n",
       "      <th></th>\n",
       "      <th></th>\n",
       "      <th></th>\n",
       "      <th></th>\n",
       "    </tr>\n",
       "  </thead>\n",
       "  <tbody>\n",
       "    <tr>\n",
       "      <th>0100630012</th>\n",
       "      <td>0.00</td>\n",
       "      <td>8.45</td>\n",
       "      <td>-8.45</td>\n",
       "      <td>-inf</td>\n",
       "    </tr>\n",
       "    <tr>\n",
       "      <th>0472472025</th>\n",
       "      <td>420.00</td>\n",
       "      <td>-43.04</td>\n",
       "      <td>463.04</td>\n",
       "      <td>1.102476</td>\n",
       "    </tr>\n",
       "    <tr>\n",
       "      <th>04911100120C</th>\n",
       "      <td>392.08</td>\n",
       "      <td>-49.00</td>\n",
       "      <td>441.08</td>\n",
       "      <td>1.124974</td>\n",
       "    </tr>\n",
       "    <tr>\n",
       "      <th>0472412012</th>\n",
       "      <td>3060.00</td>\n",
       "      <td>-428.55</td>\n",
       "      <td>3488.55</td>\n",
       "      <td>1.140049</td>\n",
       "    </tr>\n",
       "    <tr>\n",
       "      <th>0492339101</th>\n",
       "      <td>1442.00</td>\n",
       "      <td>-229.85</td>\n",
       "      <td>1671.85</td>\n",
       "      <td>1.159397</td>\n",
       "    </tr>\n",
       "  </tbody>\n",
       "</table>\n",
       "</div>"
      ],
      "text/plain": [
       "              total_sales  total_cost  total_margin  margin_pct\n",
       "Varenr.                                                        \n",
       "0100630012           0.00        8.45         -8.45        -inf\n",
       "0472472025         420.00      -43.04        463.04    1.102476\n",
       "04911100120C       392.08      -49.00        441.08    1.124974\n",
       "0472412012        3060.00     -428.55       3488.55    1.140049\n",
       "0492339101        1442.00     -229.85       1671.85    1.159397"
      ]
     },
     "metadata": {},
     "output_type": "display_data"
    }
   ],
   "source": [
    "# Gross margin per product\n",
    "dicsa_df['gross_margin'] = dicsa_df['Salgsbeløb (faktisk)'] - dicsa_df['Kostbeløb (faktisk)']\n",
    "margin = dicsa_df[dicsa_df['Posttype'] == 'Salg'].groupby('Varenr.').agg(\n",
    "    total_sales=('Salgsbeløb (faktisk)', 'sum'),\n",
    "    total_cost=('Kostbeløb (faktisk)', 'sum'),\n",
    "    total_margin=('gross_margin', 'sum')\n",
    ")\n",
    "margin['margin_pct'] = margin['total_margin'] / margin['total_sales']\n",
    "display(margin.sort_values('margin_pct', ascending=True).head())"
   ]
  },
  {
   "cell_type": "code",
   "execution_count": 10,
   "id": "8c9f97c7",
   "metadata": {},
   "outputs": [
    {
     "data": {
      "image/png": "[encoded data removed]",
      "text/plain": [
       "<Figure size 640x480 with 1 Axes>"
      ]
     },
     "metadata": {},
     "output_type": "display_data"
    }
   ],
   "source": [
    "import matplotlib.pyplot as plt\n",
    "# Monthly sales trend\n",
    "dicsa_df['Bogføringsdato'] = pd.to_datetime(dicsa_df['Bogføringsdato'])\n",
    "dicsa_df['Month'] = dicsa_df['Bogføringsdato'].dt.to_period('M')\n",
    "monthly_sales = dicsa_df[dicsa_df['Posttype'] == 'Salg'].groupby('Month')['Antal'].sum().abs()\n",
    "monthly_sales.plot(title='Monthly Units Sold')\n",
    "plt.show()"
   ]
  },
  {
   "cell_type": "code",
   "execution_count": 13,
   "id": "6de78b6a",
   "metadata": {},
   "outputs": [
    {
     "data": {
      "image/png": "[encoded data removed]",
      "text/plain": [
       "<Figure size 1000x500 with 1 Axes>"
      ]
     },
     "metadata": {},
     "output_type": "display_data"
    }
   ],
   "source": [
    "import matplotlib.pyplot as plt\n",
    "\n",
    "top10_sold = sales.sort_values('total_units_sold', ascending=False).head(10)\n",
    "top10_sold['total_units_sold'].plot(kind='bar', figsize=(10,5), title='Top 10 Products by Units Sold')\n",
    "plt.ylabel('Units Sold')\n",
    "plt.xlabel('Varenr.')\n",
    "plt.show()"
   ]
  }
 ],
 "metadata": {
  "kernelspec": {
   "display_name": "Python 3",
   "language": "python",
   "name": "python3"
  },
  "language_info": {
   "codemirror_mode": {
    "name": "ipython",
    "version": 3
   },
   "file_extension": ".py",
   "mimetype": "text/x-python",
   "name": "python",
   "nbconvert_exporter": "python",
   "pygments_lexer": "ipython3",
   "version": "3.11.2"
  }
 },
 "nbformat": 4,
 "nbformat_minor": 5
}
